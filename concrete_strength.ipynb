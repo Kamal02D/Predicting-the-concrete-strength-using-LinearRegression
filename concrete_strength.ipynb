{
 "cells": [
  {
   "cell_type": "code",
   "execution_count": 1,
   "id": "5edd0e6b",
   "metadata": {},
   "outputs": [],
   "source": [
    "# specail thanks to Prof. I-Cheng Yeh Department of Information Management Chung-Hua Universit\n",
    "# dataset link : https://archive.ics.uci.edu/ml/datasets/Concrete+Compressive+Strength"
   ]
  },
  {
   "cell_type": "code",
   "execution_count": 2,
   "id": "e667b723",
   "metadata": {},
   "outputs": [],
   "source": [
    "import findspark\n",
    "findspark.init()"
   ]
  },
  {
   "cell_type": "code",
   "execution_count": 3,
   "id": "6e49303b",
   "metadata": {},
   "outputs": [],
   "source": [
    "from pyspark.sql import SparkSession\n",
    "spark_session = SparkSession.builder.appName(\"concrete_strength\").getOrCreate()"
   ]
  },
  {
   "cell_type": "code",
   "execution_count": 4,
   "id": "17c21274",
   "metadata": {},
   "outputs": [],
   "source": [
    "# importing the data\n",
    "data = spark_session.read.csv(\"concrete_Data.csv\" , header=True , inferSchema=True)"
   ]
  },
  {
   "cell_type": "code",
   "execution_count": 5,
   "id": "d3db1419",
   "metadata": {},
   "outputs": [],
   "source": [
    "#assembling the features\n",
    "from pyspark.ml.feature import VectorAssembler\n",
    "va = VectorAssembler(inputCols=data.columns[:8] , outputCol = \"features\")"
   ]
  },
  {
   "cell_type": "code",
   "execution_count": 6,
   "id": "725b8e77",
   "metadata": {},
   "outputs": [
    {
     "name": "stdout",
     "output_type": "stream",
     "text": [
      "+------------------+---------------+-----+------------------------------+---------------------------------------------+\n",
      "|Coarse Aggregate  |Fine Aggregate |Age  |Concrete compressive strength |features                                     |\n",
      "+------------------+---------------+-----+------------------------------+---------------------------------------------+\n",
      "|1040.0            |676.0          |28.0 |79.99                         |[540.0,0.0,0.0,162.0,2.5,1040.0,676.0,28.0]  |\n",
      "|1055.0            |676.0          |28.0 |61.89                         |[540.0,0.0,0.0,162.0,2.5,1055.0,676.0,28.0]  |\n",
      "|932.0             |594.0          |270.0|40.27                         |[332.5,142.5,0.0,228.0,0.0,932.0,594.0,270.0]|\n",
      "|932.0             |594.0          |365.0|41.05                         |[332.5,142.5,0.0,228.0,0.0,932.0,594.0,365.0]|\n",
      "|978.4             |825.5          |360.0|44.3                          |[198.6,132.4,0.0,192.0,0.0,978.4,825.5,360.0]|\n",
      "|932.0             |670.0          |90.0 |47.03                         |[266.0,114.0,0.0,228.0,0.0,932.0,670.0,90.0] |\n",
      "|932.0             |594.0          |365.0|43.7                          |[380.0,95.0,0.0,228.0,0.0,932.0,594.0,365.0] |\n",
      "|932.0             |594.0          |28.0 |36.45                         |[380.0,95.0,0.0,228.0,0.0,932.0,594.0,28.0]  |\n",
      "|932.0             |670.0          |28.0 |45.85                         |[266.0,114.0,0.0,228.0,0.0,932.0,670.0,28.0] |\n",
      "|932.0             |594.0          |28.0 |39.29                         |[475.0,0.0,0.0,228.0,0.0,932.0,594.0,28.0]   |\n",
      "|978.4             |825.5          |90.0 |38.07                         |[198.6,132.4,0.0,192.0,0.0,978.4,825.5,90.0] |\n",
      "|978.4             |825.5          |28.0 |28.02                         |[198.6,132.4,0.0,192.0,0.0,978.4,825.5,28.0] |\n",
      "|932.0             |594.0          |270.0|43.01                         |[427.5,47.5,0.0,228.0,0.0,932.0,594.0,270.0] |\n",
      "|932.0             |670.0          |90.0 |42.33                         |[190.0,190.0,0.0,228.0,0.0,932.0,670.0,90.0] |\n",
      "|932.0             |670.0          |28.0 |47.81                         |[304.0,76.0,0.0,228.0,0.0,932.0,670.0,28.0]  |\n",
      "|932.0             |670.0          |90.0 |52.91                         |[380.0,0.0,0.0,228.0,0.0,932.0,670.0,90.0]   |\n",
      "|1047.0            |806.9          |90.0 |39.36                         |[139.6,209.4,0.0,192.0,0.0,1047.0,806.9,90.0]|\n",
      "|932.0             |670.0          |365.0|56.14                         |[342.0,38.0,0.0,228.0,0.0,932.0,670.0,365.0] |\n",
      "|932.0             |594.0          |90.0 |40.56                         |[380.0,95.0,0.0,228.0,0.0,932.0,594.0,90.0]  |\n",
      "|932.0             |594.0          |180.0|42.62                         |[475.0,0.0,0.0,228.0,0.0,932.0,594.0,180.0]  |\n",
      "+------------------+---------------+-----+------------------------------+---------------------------------------------+\n",
      "only showing top 20 rows\n",
      "\n"
     ]
    }
   ],
   "source": [
    "data = va.transform(data)\n",
    "data.select(data.columns[5:]).show(truncate=False)"
   ]
  },
  {
   "cell_type": "code",
   "execution_count": 7,
   "id": "d5c68e8d",
   "metadata": {},
   "outputs": [
    {
     "name": "stdout",
     "output_type": "stream",
     "text": [
      "316\n",
      "714\n"
     ]
    }
   ],
   "source": [
    "test_data , train_data = data.randomSplit([0.3,0.7])\n",
    "print(test_data.count())\n",
    "print(train_data.count())"
   ]
  },
  {
   "cell_type": "code",
   "execution_count": 8,
   "id": "a25973ad",
   "metadata": {},
   "outputs": [],
   "source": [
    "# building the lineare regression model\n",
    "from pyspark.ml.regression import LinearRegression\n",
    "lr = LinearRegression(featuresCol=\"features\" , labelCol=train_data.columns[8])\n",
    "lr= lr.fit(train_data)"
   ]
  },
  {
   "cell_type": "code",
   "execution_count": 9,
   "id": "cce4ece2",
   "metadata": {},
   "outputs": [],
   "source": [
    "eva = lr.evaluate(test_data)"
   ]
  },
  {
   "cell_type": "code",
   "execution_count": 10,
   "id": "3065c3d5",
   "metadata": {},
   "outputs": [
    {
     "name": "stdout",
     "output_type": "stream",
     "text": [
      "+-----+-----------------------------------------------+------------------+\n",
      "|label|features                                       |prediction        |\n",
      "+-----+-----------------------------------------------+------------------+\n",
      "|7.68 |[102.0,153.0,0.0,192.0,0.0,887.0,942.0,7.0]    |11.691430295637815|\n",
      "|2.33 |[108.3,162.4,0.0,203.5,0.0,938.2,849.0,3.0]    |10.45709581188882 |\n",
      "|7.72 |[108.3,162.4,0.0,203.5,0.0,938.2,849.0,7.0]    |10.924844710159896|\n",
      "|22.35|[116.0,173.0,0.0,192.0,0.0,909.8,891.9,28.0]   |17.3689239250253  |\n",
      "|31.02|[116.0,173.0,0.0,192.0,0.0,909.8,891.9,90.0]   |24.619031848226996|\n",
      "|13.66|[133.0,200.0,0.0,192.0,0.0,927.4,839.2,7.0]    |19.069361872114214|\n",
      "|36.59|[133.0,200.0,0.0,192.0,0.0,927.4,839.2,90.0]   |28.775151511239073|\n",
      "|14.59|[139.6,209.4,0.0,192.0,0.0,1047.0,806.9,7.0]   |23.67640423568075 |\n",
      "|35.23|[140.0,164.0,128.0,237.0,6.0,869.0,656.0,28.0] |19.488239600790394|\n",
      "|4.83 |[141.3,212.0,0.0,203.5,0.0,971.8,748.5,3.0]    |18.24278769470787 |\n",
      "|44.61|[142.0,167.0,130.0,174.0,11.0,883.0,785.0,28.0]|34.25045941563117 |\n",
      "|29.73|[143.0,169.4,142.7,190.7,8.4,967.4,643.5,28.0] |31.023712479118288|\n",
      "|26.15|[143.8,136.3,106.2,178.1,7.5,941.5,774.3,28.0] |28.40721958547492 |\n",
      "|32.72|[145.9,230.5,0.0,202.5,3.4,827.0,871.8,28.0]   |24.63236247356771 |\n",
      "|19.99|[147.0,115.0,89.0,202.0,9.0,860.0,829.0,28.0]  |21.722444859509565|\n",
      "|17.95|[148.0,0.0,137.0,158.0,16.0,1002.0,830.0,28.0] |25.683267217598186|\n",
      "|26.92|[148.0,175.0,0.0,171.0,2.0,1000.0,828.0,28.0]  |25.830258797967332|\n",
      "|17.96|[148.1,0.0,136.6,158.1,16.1,1001.8,830.1,28.0] |25.68563290613129 |\n",
      "|23.52|[149.0,118.0,92.0,183.0,7.0,953.0,780.0,28.0]  |25.44167634212232 |\n",
      "|37.43|[150.0,237.0,0.0,174.0,12.0,1069.0,675.0,28.0] |34.33656316701082 |\n",
      "+-----+-----------------------------------------------+------------------+\n",
      "only showing top 20 rows\n",
      "\n"
     ]
    }
   ],
   "source": [
    "res = eva.predictions.select(eva.predictions.columns[8:])\n",
    "res = res.withColumnRenamed(\"Concrete compressive strength \" , \"label\")\n",
    "res.show(truncate=False)"
   ]
  },
  {
   "cell_type": "code",
   "execution_count": 11,
   "id": "d3d95753",
   "metadata": {},
   "outputs": [
    {
     "name": "stdout",
     "output_type": "stream",
     "text": [
      "0.5557299440297251\n",
      "8.939286961500184\n",
      "8.939286961500184\n",
      "11.25741015631604\n"
     ]
    }
   ],
   "source": [
    "from pyspark.ml.evaluation import RegressionEvaluator\n",
    "evaluator = RegressionEvaluator()\n",
    "print(evaluator.evaluate(res, {evaluator.metricName: \"r2\"})) \n",
    "print(evaluator.evaluate(res, {evaluator.metricName: \"mae\"})) \n",
    "print(evaluator.evaluate(res, {evaluator.metricName: \"mae\"}))\n",
    "print(evaluator.evaluate(res, {evaluator.metricName: \"rmse\"}))"
   ]
  },
  {
   "cell_type": "code",
   "execution_count": null,
   "id": "332a334a",
   "metadata": {},
   "outputs": [],
   "source": []
  },
  {
   "cell_type": "code",
   "execution_count": null,
   "id": "566461fd",
   "metadata": {},
   "outputs": [],
   "source": []
  },
  {
   "cell_type": "code",
   "execution_count": null,
   "id": "f6c64909",
   "metadata": {},
   "outputs": [],
   "source": []
  }
 ],
 "metadata": {
  "kernelspec": {
   "display_name": "Python 3 (ipykernel)",
   "language": "python",
   "name": "python3"
  },
  "language_info": {
   "codemirror_mode": {
    "name": "ipython",
    "version": 3
   },
   "file_extension": ".py",
   "mimetype": "text/x-python",
   "name": "python",
   "nbconvert_exporter": "python",
   "pygments_lexer": "ipython3",
   "version": "3.10.5"
  }
 },
 "nbformat": 4,
 "nbformat_minor": 5
}
