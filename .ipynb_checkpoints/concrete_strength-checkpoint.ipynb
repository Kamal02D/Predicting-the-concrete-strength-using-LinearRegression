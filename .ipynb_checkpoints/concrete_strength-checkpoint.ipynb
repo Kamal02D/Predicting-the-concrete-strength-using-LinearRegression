{
 "cells": [
  {
   "cell_type": "code",
   "execution_count": 1,
   "id": "003f8151",
   "metadata": {},
   "outputs": [],
   "source": [
    "# specail thanks to Prof. I-Cheng Yeh Department of Information Management Chung-Hua University\n",
    "# dataset link : https://archive.ics.uci.edu/ml/datasets/Concrete+Compressive+Strength"
   ]
  },
  {
   "cell_type": "code",
   "execution_count": 2,
   "id": "e667b723",
   "metadata": {},
   "outputs": [],
   "source": [
    "import findspark\n",
    "findspark.init()"
   ]
  },
  {
   "cell_type": "code",
   "execution_count": 3,
   "id": "6e49303b",
   "metadata": {},
   "outputs": [],
   "source": [
    "from pyspark.sql import SparkSession\n",
    "spark_session = SparkSession.builder.appName(\"concrete_strength\").getOrCreate()"
   ]
  },
  {
   "cell_type": "code",
   "execution_count": 4,
   "id": "17c21274",
   "metadata": {},
   "outputs": [],
   "source": [
    "# importing the data\n",
    "data = spark_session.read.csv(\"concrete_Data.csv\" , header=True , inferSchema=True)"
   ]
  },
  {
   "cell_type": "code",
   "execution_count": 5,
   "id": "d3db1419",
   "metadata": {},
   "outputs": [],
   "source": [
    "#assembling the features\n",
    "from pyspark.ml.feature import VectorAssembler\n",
    "va = VectorAssembler(inputCols=data.columns[:8] , outputCol = \"features\")"
   ]
  },
  {
   "cell_type": "code",
   "execution_count": 6,
   "id": "725b8e77",
   "metadata": {},
   "outputs": [
    {
     "name": "stdout",
     "output_type": "stream",
     "text": [
      "+------------------+---------------+-----+------------------------------+---------------------------------------------+\n",
      "|Coarse Aggregate  |Fine Aggregate |Age  |Concrete compressive strength |features                                     |\n",
      "+------------------+---------------+-----+------------------------------+---------------------------------------------+\n",
      "|1040.0            |676.0          |28.0 |79.99                         |[540.0,0.0,0.0,162.0,2.5,1040.0,676.0,28.0]  |\n",
      "|1055.0            |676.0          |28.0 |61.89                         |[540.0,0.0,0.0,162.0,2.5,1055.0,676.0,28.0]  |\n",
      "|932.0             |594.0          |270.0|40.27                         |[332.5,142.5,0.0,228.0,0.0,932.0,594.0,270.0]|\n",
      "|932.0             |594.0          |365.0|41.05                         |[332.5,142.5,0.0,228.0,0.0,932.0,594.0,365.0]|\n",
      "|978.4             |825.5          |360.0|44.3                          |[198.6,132.4,0.0,192.0,0.0,978.4,825.5,360.0]|\n",
      "|932.0             |670.0          |90.0 |47.03                         |[266.0,114.0,0.0,228.0,0.0,932.0,670.0,90.0] |\n",
      "|932.0             |594.0          |365.0|43.7                          |[380.0,95.0,0.0,228.0,0.0,932.0,594.0,365.0] |\n",
      "|932.0             |594.0          |28.0 |36.45                         |[380.0,95.0,0.0,228.0,0.0,932.0,594.0,28.0]  |\n",
      "|932.0             |670.0          |28.0 |45.85                         |[266.0,114.0,0.0,228.0,0.0,932.0,670.0,28.0] |\n",
      "|932.0             |594.0          |28.0 |39.29                         |[475.0,0.0,0.0,228.0,0.0,932.0,594.0,28.0]   |\n",
      "|978.4             |825.5          |90.0 |38.07                         |[198.6,132.4,0.0,192.0,0.0,978.4,825.5,90.0] |\n",
      "|978.4             |825.5          |28.0 |28.02                         |[198.6,132.4,0.0,192.0,0.0,978.4,825.5,28.0] |\n",
      "|932.0             |594.0          |270.0|43.01                         |[427.5,47.5,0.0,228.0,0.0,932.0,594.0,270.0] |\n",
      "|932.0             |670.0          |90.0 |42.33                         |[190.0,190.0,0.0,228.0,0.0,932.0,670.0,90.0] |\n",
      "|932.0             |670.0          |28.0 |47.81                         |[304.0,76.0,0.0,228.0,0.0,932.0,670.0,28.0]  |\n",
      "|932.0             |670.0          |90.0 |52.91                         |[380.0,0.0,0.0,228.0,0.0,932.0,670.0,90.0]   |\n",
      "|1047.0            |806.9          |90.0 |39.36                         |[139.6,209.4,0.0,192.0,0.0,1047.0,806.9,90.0]|\n",
      "|932.0             |670.0          |365.0|56.14                         |[342.0,38.0,0.0,228.0,0.0,932.0,670.0,365.0] |\n",
      "|932.0             |594.0          |90.0 |40.56                         |[380.0,95.0,0.0,228.0,0.0,932.0,594.0,90.0]  |\n",
      "|932.0             |594.0          |180.0|42.62                         |[475.0,0.0,0.0,228.0,0.0,932.0,594.0,180.0]  |\n",
      "+------------------+---------------+-----+------------------------------+---------------------------------------------+\n",
      "only showing top 20 rows\n",
      "\n"
     ]
    }
   ],
   "source": [
    "data = va.transform(data)\n",
    "data.select(data.columns[5:]).show(truncate=False)"
   ]
  },
  {
   "cell_type": "code",
   "execution_count": 7,
   "id": "d5c68e8d",
   "metadata": {},
   "outputs": [
    {
     "name": "stdout",
     "output_type": "stream",
     "text": [
      "305\n",
      "725\n"
     ]
    }
   ],
   "source": [
    "test_data , train_data = data.randomSplit([0.3,0.7])\n",
    "print(test_data.count())\n",
    "print(train_data.count())"
   ]
  },
  {
   "cell_type": "code",
   "execution_count": 8,
   "id": "a25973ad",
   "metadata": {},
   "outputs": [],
   "source": [
    "# building the lineare regression model\n",
    "from pyspark.ml.regression import LinearRegression\n",
    "lr = LinearRegression(featuresCol=\"features\" , labelCol=train_data.columns[8])\n",
    "lr= lr.fit(train_data)"
   ]
  },
  {
   "cell_type": "code",
   "execution_count": 9,
   "id": "cce4ece2",
   "metadata": {},
   "outputs": [],
   "source": [
    "eva = lr.evaluate(test_data)"
   ]
  },
  {
   "cell_type": "code",
   "execution_count": 10,
   "id": "3065c3d5",
   "metadata": {},
   "outputs": [
    {
     "name": "stdout",
     "output_type": "stream",
     "text": [
      "+-----+-----------------------------------------------+------------------+\n",
      "|label|features                                       |prediction        |\n",
      "+-----+-----------------------------------------------+------------------+\n",
      "|20.59|[108.3,162.4,0.0,203.5,0.0,938.2,849.0,28.0]   |14.450748097290868|\n",
      "|10.09|[116.0,173.0,0.0,192.0,0.0,909.8,891.9,7.0]    |16.10998077865885 |\n",
      "|22.35|[116.0,173.0,0.0,192.0,0.0,909.8,891.9,28.0]   |18.521377104117192|\n",
      "|31.03|[133.0,210.0,0.0,196.0,3.0,949.0,795.0,28.0]   |23.377705726421077|\n",
      "|29.07|[136.0,162.0,126.0,172.0,10.0,923.0,764.0,28.0]|34.19226530159101 |\n",
      "|29.07|[136.4,161.6,125.8,171.6,10.4,922.6,764.4,28.0]|34.350068635376566|\n",
      "|36.44|[139.9,132.6,103.3,200.3,7.4,916.0,753.4,28.0] |24.552648750092438|\n",
      "|44.61|[141.9,166.6,129.7,173.5,10.9,882.6,785.3,28.0]|35.61294266210955 |\n",
      "|44.61|[142.0,167.0,130.0,174.0,11.0,883.0,785.0,28.0]|35.645924763564096|\n",
      "|15.42|[143.6,0.0,174.9,158.4,17.9,942.7,844.5,28.0]  |28.169742370186576|\n",
      "|23.74|[146.0,173.0,0.0,182.0,3.0,986.0,817.0,28.0]   |23.84987505258787 |\n",
      "|19.99|[146.5,114.6,89.3,201.9,8.8,860.0,829.5,28.0]  |23.05374977486828 |\n",
      "|19.99|[147.0,115.0,89.0,202.0,9.0,860.0,829.0,28.0]  |23.159256172181237|\n",
      "|26.92|[148.0,175.0,0.0,171.0,2.0,1000.0,828.0,28.0]  |25.952128263928124|\n",
      "|15.53|[148.1,0.0,182.1,181.4,15.0,838.9,884.3,28.0]  |24.69607494058328 |\n",
      "|32.96|[149.0,236.0,0.0,176.0,13.0,847.0,893.0,28.0]  |34.10380180105282 |\n",
      "|15.57|[151.0,0.0,184.0,167.0,12.0,991.0,772.0,28.0]  |26.25377308298461 |\n",
      "|13.46|[151.0,0.0,185.0,167.0,16.0,1074.0,678.0,28.0] |26.774074394707306|\n",
      "|26.86|[152.6,238.7,0.0,200.0,6.3,1001.8,683.9,28.0]  |27.66664533925084 |\n",
      "|4.78 |[153.0,102.0,0.0,192.0,0.0,888.0,943.1,3.0]    |13.175411873037303|\n",
      "+-----+-----------------------------------------------+------------------+\n",
      "only showing top 20 rows\n",
      "\n"
     ]
    }
   ],
   "source": [
    "res = eva.predictions.select(eva.predictions.columns[8:])\n",
    "res = res.withColumnRenamed(\"Concrete compressive strength \" , \"label\")\n",
    "res.show(truncate=False)"
   ]
  },
  {
   "cell_type": "code",
   "execution_count": 11,
   "id": "d3d95753",
   "metadata": {},
   "outputs": [
    {
     "name": "stdout",
     "output_type": "stream",
     "text": [
      "0.6242151666782827\n",
      "8.496247217239556\n",
      "8.496247217239556\n",
      "10.594480547836248\n"
     ]
    }
   ],
   "source": [
    "from pyspark.ml.evaluation import RegressionEvaluator\n",
    "evaluator = RegressionEvaluator()\n",
    "print(evaluator.evaluate(res, {evaluator.metricName: \"r2\"})) \n",
    "print(evaluator.evaluate(res, {evaluator.metricName: \"mae\"})) \n",
    "print(evaluator.evaluate(res, {evaluator.metricName: \"mae\"}))\n",
    "print(evaluator.evaluate(res, {evaluator.metricName: \"rmse\"}))"
   ]
  },
  {
   "cell_type": "code",
   "execution_count": null,
   "id": "332a334a",
   "metadata": {},
   "outputs": [],
   "source": []
  },
  {
   "cell_type": "code",
   "execution_count": null,
   "id": "566461fd",
   "metadata": {},
   "outputs": [],
   "source": []
  },
  {
   "cell_type": "code",
   "execution_count": null,
   "id": "f6c64909",
   "metadata": {},
   "outputs": [],
   "source": []
  }
 ],
 "metadata": {
  "kernelspec": {
   "display_name": "Python 3 (ipykernel)",
   "language": "python",
   "name": "python3"
  },
  "language_info": {
   "codemirror_mode": {
    "name": "ipython",
    "version": 3
   },
   "file_extension": ".py",
   "mimetype": "text/x-python",
   "name": "python",
   "nbconvert_exporter": "python",
   "pygments_lexer": "ipython3",
   "version": "3.10.5"
  }
 },
 "nbformat": 4,
 "nbformat_minor": 5
}
